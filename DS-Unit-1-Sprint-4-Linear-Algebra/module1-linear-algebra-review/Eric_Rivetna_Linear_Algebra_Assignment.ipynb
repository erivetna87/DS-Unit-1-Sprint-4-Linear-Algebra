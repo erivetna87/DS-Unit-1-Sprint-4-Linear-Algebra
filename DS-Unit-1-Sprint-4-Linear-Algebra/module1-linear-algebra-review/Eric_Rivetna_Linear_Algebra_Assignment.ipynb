{
  "nbformat": 4,
  "nbformat_minor": 0,
  "metadata": {
    "colab": {
      "name": "Eric Rivetna - Linear Algebra Assignment.ipynb",
      "version": "0.3.2",
      "provenance": [],
      "collapsed_sections": [],
      "include_colab_link": true
    },
    "kernelspec": {
      "name": "python3",
      "display_name": "Python 3"
    }
  },
  "cells": [
    {
      "cell_type": "markdown",
      "metadata": {
        "id": "view-in-github",
        "colab_type": "text"
      },
      "source": [
        "<a href=\"https://colab.research.google.com/github/erivetna87/DS-Unit-1-Sprint-4-Linear-Algebra/blob/master/DS-Unit-1-Sprint-4-Linear-Algebra/module1-linear-algebra-review/Eric_Rivetna_Linear_Algebra_Assignment.ipynb\" target=\"_parent\"><img src=\"https://colab.research.google.com/assets/colab-badge.svg\" alt=\"Open In Colab\"/></a>"
      ]
    },
    {
      "cell_type": "markdown",
      "metadata": {
        "id": "yXA3GwWhY9KL",
        "colab_type": "text"
      },
      "source": [
        "# Part 1 - Scalars and Vectors\n",
        "\n",
        "For the questions below it is not sufficient to simply provide answer to the questions, but you must solve the problems and show your work using python (the NumPy library will help a lot!) Translate the vectors and matrices into their appropriate python  representations and use numpy or functions that you write yourself to demonstrate the result or property. "
      ]
    },
    {
      "cell_type": "markdown",
      "metadata": {
        "id": "oNOTv43_Zi9L",
        "colab_type": "text"
      },
      "source": [
        "## 1.1 Create a two-dimensional vector and plot it on a graph"
      ]
    },
    {
      "cell_type": "code",
      "metadata": {
        "id": "XNqjzQzrkVG7",
        "colab_type": "code",
        "outputId": "b23dc6b0-d085-4554-b623-fb143429ad81",
        "colab": {
          "base_uri": "https://localhost:8080/",
          "height": 561
        }
      },
      "source": [
        "import numpy as np\n",
        "import math\n",
        "import matplotlib.pyplot as plt\n",
        "import matplotlib.pyplot as plt\n",
        "from scipy import linalg\n",
        "from mpl_toolkits.mplot3d import Axes3D\n",
        "import warnings \n",
        "\n",
        "warnings.simplefilter(\"ignore\")\n",
        "\n",
        "\n",
        "\n",
        "np.random.seed(0)\n",
        "\n",
        "x1 = np.random.randint(10, size=(2, 4))\n",
        "y1 = np.multiply(2,x1)\n",
        "xyz1 = np.arange(12).reshape(3,2,2)*.1\n",
        "print(x1)\n",
        "print('x1 ndim:', x1.ndim)\n",
        "print('x1 shape:', x1.shape)\n",
        "print('x1 size:', x1.size)\n",
        "print('\\n')\n",
        "\n",
        "print(y1)\n",
        "print('y1 ndim:', y1.ndim)\n",
        "print('y1 shape:', y1.shape)\n",
        "print('y1 size:', y1.size)\n",
        "\n",
        "print('\\n')\n",
        "\n",
        "print(y1)\n",
        "print('y1 ndim:', y1.ndim)\n",
        "print('y1 shape:', y1.shape)\n",
        "print('y1 size:', y1.size)\n",
        "\n",
        "print('\\n')\n",
        "\n",
        "print('xyz1 ndim:', xyz1.ndim)\n",
        "print('xyz1 shape:', xyz1.shape)\n",
        "print('xyz1 size:', xyz1.size)\n",
        "\n",
        "print(xyz1)\n",
        "\n",
        "\n",
        "\n",
        "\n"
      ],
      "execution_count": 0,
      "outputs": [
        {
          "output_type": "stream",
          "text": [
            "[[5 0 3 3]\n",
            " [7 9 3 5]]\n",
            "x1 ndim: 2\n",
            "x1 shape: (2, 4)\n",
            "x1 size: 8\n",
            "\n",
            "\n",
            "[[10  0  6  6]\n",
            " [14 18  6 10]]\n",
            "y1 ndim: 2\n",
            "y1 shape: (2, 4)\n",
            "y1 size: 8\n",
            "\n",
            "\n",
            "[[10  0  6  6]\n",
            " [14 18  6 10]]\n",
            "y1 ndim: 2\n",
            "y1 shape: (2, 4)\n",
            "y1 size: 8\n",
            "\n",
            "\n",
            "xyz1 ndim: 3\n",
            "xyz1 shape: (3, 2, 2)\n",
            "xyz1 size: 12\n",
            "[[[0.  0.1]\n",
            "  [0.2 0.3]]\n",
            "\n",
            " [[0.4 0.5]\n",
            "  [0.6 0.7]]\n",
            "\n",
            " [[0.8 0.9]\n",
            "  [1.  1.1]]]\n"
          ],
          "name": "stdout"
        }
      ]
    },
    {
      "cell_type": "code",
      "metadata": {
        "id": "TTeD3JQRsJwY",
        "colab_type": "code",
        "outputId": "3322196b-5c4e-489d-b944-09715693cffd",
        "colab": {
          "base_uri": "https://localhost:8080/",
          "height": 51
        }
      },
      "source": [
        "print(xyz1[2])"
      ],
      "execution_count": 0,
      "outputs": [
        {
          "output_type": "stream",
          "text": [
            "[[0.8 0.9]\n",
            " [1.  1.1]]\n"
          ],
          "name": "stdout"
        }
      ]
    },
    {
      "cell_type": "code",
      "metadata": {
        "id": "IxuZXm4PzV33",
        "colab_type": "code",
        "outputId": "52d4b48f-90cb-44fc-c373-f4300d2bb602",
        "colab": {
          "base_uri": "https://localhost:8080/",
          "height": 269
        }
      },
      "source": [
        "\n",
        "plt.plot(x1,y1)\n",
        "plt.show()"
      ],
      "execution_count": 0,
      "outputs": [
        {
          "output_type": "display_data",
          "data": {
            "image/png": "[encoded data removed]",
            "text/plain": [
              "<Figure size 432x288 with 1 Axes>"
            ]
          },
          "metadata": {
            "tags": []
          }
        }
      ]
    },
    {
      "cell_type": "code",
      "metadata": {
        "id": "Vj1l1MkNJskE",
        "colab_type": "code",
        "outputId": "db357e12-50b2-4850-bed6-2c545e230133",
        "colab": {
          "base_uri": "https://localhost:8080/",
          "height": 269
        }
      },
      "source": [
        "plt.plot(y1,x1,color='b')\n",
        "plt.show()"
      ],
      "execution_count": 0,
      "outputs": [
        {
          "output_type": "display_data",
          "data": {
            "image/png": "[encoded data removed]",
            "text/plain": [
              "<Figure size 432x288 with 1 Axes>"
            ]
          },
          "metadata": {
            "tags": []
          }
        }
      ]
    },
    {
      "cell_type": "markdown",
      "metadata": {
        "id": "unKFT619lk3e",
        "colab_type": "text"
      },
      "source": [
        "## 1.2 Create a three-dimensional vector and plot it on a graph"
      ]
    },
    {
      "cell_type": "code",
      "metadata": {
        "id": "atUEd3T6llKm",
        "colab_type": "code",
        "outputId": "da33d2e4-dcf3-46ac-b7c6-9edd6cfaa203",
        "colab": {
          "base_uri": "https://localhost:8080/",
          "height": 248
        }
      },
      "source": [
        "vector2 = [xyz1[0],xyz1[1],xyz1[2]]\n",
        "fig = plt.figure()\n",
        "ax = fig.add_subplot(111, projection='3d')\n",
        "plt.quiver(0,0,0,xyz1[0],xyz1[1],xyz1[2])\n",
        "ax.set_xlim([0, 1]) \n",
        "ax.set_ylim([0, 1])\n",
        "ax.set_zlim([0, 1])\n",
        "plt.show()"
      ],
      "execution_count": 0,
      "outputs": [
        {
          "output_type": "display_data",
          "data": {
            "image/png": "[encoded data removed]",
            "text/plain": [
              "<Figure size 432x288 with 1 Axes>"
            ]
          },
          "metadata": {
            "tags": []
          }
        }
      ]
    },
    {
      "cell_type": "markdown",
      "metadata": {
        "id": "b7qFxbKxZmI2",
        "colab_type": "text"
      },
      "source": [
        "## 1.3 Scale the vectors you created in 1.1 by $5$, $\\pi$, and $-e$ and plot all four vectors (original + 3 scaled vectors) on a graph. What do you notice about these vectors? "
      ]
    },
    {
      "cell_type": "code",
      "metadata": {
        "id": "ah6zMSLJdJwL",
        "colab_type": "code",
        "outputId": "b0e94022-dbc1-45a5-b910-4e42a04cb060",
        "colab": {
          "base_uri": "https://localhost:8080/",
          "height": 51
        }
      },
      "source": [
        "from math import e, pi\n",
        "print(e)\n",
        "print(pi)"
      ],
      "execution_count": 0,
      "outputs": [
        {
          "output_type": "stream",
          "text": [
            "2.718281828459045\n",
            "3.141592653589793\n"
          ],
          "name": "stdout"
        }
      ]
    },
    {
      "cell_type": "code",
      "metadata": {
        "id": "3qpwDlzXkVf5",
        "colab_type": "code",
        "outputId": "4d97094d-8b3d-4c0e-c9b6-beffb0fd3472",
        "colab": {
          "base_uri": "https://localhost:8080/",
          "height": 281
        }
      },
      "source": [
        "#Started with new vectors from lecture\n",
        "\n",
        "blue = [.5,.5]\n",
        "\n",
        "green = np.multiply(5, blue)\n",
        "\n",
        "red = np.multiply(pi, blue)\n",
        "\n",
        "orange = np.multiply(e, blue)\n",
        "\n",
        "plt.arrow(0,0, red[0], red[1],head_width=.05, head_length=0.05, color ='red')\n",
        "plt.arrow(0,0, green[0], green[1],head_width=.05, head_length=0.05, color ='green')\n",
        "plt.arrow(0,0, blue[0], blue[1],head_width=.05, head_length=0.05, color ='blue')\n",
        "plt.arrow(0,0, orange[0], orange[1],head_width=.05, head_length=0.05, color ='orange')\n",
        "plt.xlim(-1,3)          \n",
        "plt.ylim(-1,3)\n",
        "plt.title(\"Scaled Vectors\")\n",
        "plt.show()"
      ],
      "execution_count": 0,
      "outputs": [
        {
          "output_type": "display_data",
          "data": {
            "image/png": "[encoded data removed]",
            "text/plain": [
              "<Figure size 432x288 with 1 Axes>"
            ]
          },
          "metadata": {
            "tags": []
          }
        }
      ]
    },
    {
      "cell_type": "markdown",
      "metadata": {
        "id": "wrgqa6sWimbH",
        "colab_type": "text"
      },
      "source": [
        "## 1.4 Graph vectors $\\vec{a}$ and $\\vec{b}$ and plot them on a graph\n",
        "\n",
        "\\begin{align}\n",
        "\\vec{a} = \\begin{bmatrix} 5 \\\\ 7 \\end{bmatrix}\n",
        "\\qquad\n",
        "\\vec{b} = \\begin{bmatrix} 3 \\\\4 \\end{bmatrix}\n",
        "\\end{align}"
      ]
    },
    {
      "cell_type": "code",
      "metadata": {
        "id": "I1BGXA_skV-b",
        "colab_type": "code",
        "outputId": "6e374b90-3814-46e8-e2ab-0e14c061042a",
        "colab": {
          "base_uri": "https://localhost:8080/",
          "height": 269
        }
      },
      "source": [
        "a = np.array([5,7])\n",
        "b = np.array([3,4])\n",
        "\n",
        "plt.arrow(0,0,5,7,head_width=.15, head_length=0.09, color = 'y')\n",
        "plt.arrow(0,0,3,4,head_width=.15, head_length=0.09, color = 'b')\n",
        "plt.xlim(-1,10)          \n",
        "plt.ylim(-1,10)\n",
        "plt.show()\n"
      ],
      "execution_count": 0,
      "outputs": [
        {
          "output_type": "display_data",
          "data": {
            "image/png": "[encoded data removed]",
            "text/plain": [
              "<Figure size 432x288 with 1 Axes>"
            ]
          },
          "metadata": {
            "tags": []
          }
        }
      ]
    },
    {
      "cell_type": "markdown",
      "metadata": {
        "id": "QN6RU_3gizpw",
        "colab_type": "text"
      },
      "source": [
        "## 1.5 find $\\vec{a} - \\vec{b}$ and plot the result on the same graph as $\\vec{a}$ and $\\vec{b}$. Is there a relationship between vectors $\\vec{a} \\thinspace, \\vec{b} \\thinspace \\text{and} \\thinspace \\vec{a-b}$"
      ]
    },
    {
      "cell_type": "code",
      "metadata": {
        "id": "68sWHIOPkXp5",
        "colab_type": "code",
        "outputId": "cd7fa482-a33a-4417-8e35-264e7f798ec3",
        "colab": {
          "base_uri": "https://localhost:8080/",
          "height": 286
        }
      },
      "source": [
        "ab = a - b\n",
        "print(c)\n",
        "\n",
        "plt.arrow(0,0,5,7,head_width=.15, head_length=0.09, color = 'y')\n",
        "plt.arrow(0,0,3,4,head_width=.15, head_length=0.09, color = 'b')\n",
        "plt.arrow(0,0,2,3,head_width=.15, head_length=0.09, color = 'r')\n",
        "plt.xlim(-1,10)          \n",
        "plt.ylim(-1,10)\n",
        "plt.show()\n"
      ],
      "execution_count": 0,
      "outputs": [
        {
          "output_type": "stream",
          "text": [
            "[ 7 22  4 16]\n"
          ],
          "name": "stdout"
        },
        {
          "output_type": "display_data",
          "data": {
            "image/png": "[encoded data removed]",
            "text/plain": [
              "<Figure size 432x288 with 1 Axes>"
            ]
          },
          "metadata": {
            "tags": []
          }
        }
      ]
    },
    {
      "cell_type": "markdown",
      "metadata": {
        "id": "1ZPVuJAlehu_",
        "colab_type": "text"
      },
      "source": [
        "## 1.6 Find $c \\cdot d$\n",
        "\n",
        "\\begin{align}\n",
        "\\vec{c} = \\begin{bmatrix}7 & 22 & 4 & 16\\end{bmatrix}\n",
        "\\qquad\n",
        "\\vec{d} = \\begin{bmatrix}12 & 6 & 2 & 9\\end{bmatrix}\n",
        "\\end{align}\n"
      ]
    },
    {
      "cell_type": "code",
      "metadata": {
        "id": "2_cZQFCskYNr",
        "colab_type": "code",
        "outputId": "436bed21-b9ba-4463-d172-d6b11b1051fb",
        "colab": {
          "base_uri": "https://localhost:8080/",
          "height": 51
        }
      },
      "source": [
        "c = np.array([7,22,4,16])\n",
        "d = np.array([12,6,2,9])\n",
        "\n",
        "prod_cd = c * d\n",
        "print(prod_cd)\n",
        "print('[(7*12) + (22*6) + (4*2) + (16*9)]')"
      ],
      "execution_count": 0,
      "outputs": [
        {
          "output_type": "stream",
          "text": [
            "[ 84 132   8 144]\n",
            "[(7*12) + (22*6) + (4*2) + (16*9)]\n"
          ],
          "name": "stdout"
        }
      ]
    },
    {
      "cell_type": "markdown",
      "metadata": {
        "id": "cLm8yokpfg9B",
        "colab_type": "text"
      },
      "source": [
        "##  1.7 Find $e \\times f$\n",
        "\n",
        "\\begin{align}\n",
        "\\vec{e} = \\begin{bmatrix} 5 \\\\ 7 \\\\ 2 \\end{bmatrix}\n",
        "\\qquad\n",
        "\\vec{f} = \\begin{bmatrix} 3 \\\\4 \\\\ 6 \\end{bmatrix}\n",
        "\\end{align}"
      ]
    },
    {
      "cell_type": "code",
      "metadata": {
        "id": "ku-TdCKAkYs8",
        "colab_type": "code",
        "outputId": "62a57f83-4374-4d4d-db37-6b865fc62c6f",
        "colab": {
          "base_uri": "https://localhost:8080/",
          "height": 34
        }
      },
      "source": [
        "\"What's the X represent in LA again?\"\n",
        "e = np.array([5,7,2])\n",
        "d = np.array([3,4,6])\n",
        "\n",
        "prod_ed = e * d\n",
        "print(prod_ed)"
      ],
      "execution_count": 0,
      "outputs": [
        {
          "output_type": "stream",
          "text": [
            "[15 28 12]\n"
          ],
          "name": "stdout"
        }
      ]
    },
    {
      "cell_type": "markdown",
      "metadata": {
        "id": "-TN8wO2-h53s",
        "colab_type": "text"
      },
      "source": [
        "## 1.8 Find $||g||$ and then find $||h||$. Which is longer?\n",
        "\n",
        "\\begin{align}\n",
        "\\vec{g} = \\begin{bmatrix} 1 \\\\ 1 \\\\ 1 \\\\ 8 \\end{bmatrix}\n",
        "\\qquad\n",
        "\\vec{h} = \\begin{bmatrix} 3 \\\\3 \\\\ 3 \\\\ 3 \\end{bmatrix}\n",
        "\\end{align}"
      ]
    },
    {
      "cell_type": "code",
      "metadata": {
        "id": "-5VKOMKBlgaA",
        "colab_type": "code",
        "outputId": "724c73fa-0192-4924-8a80-3b75781e31b8",
        "colab": {
          "base_uri": "https://localhost:8080/",
          "height": 34
        }
      },
      "source": [
        "g = np.array([1,1,1,8]).reshape(1,2,2)\n",
        "h = np.array([3,3,3,3]).reshape(1,2,2)\n",
        "\n",
        "g_det = (np.linalg.det(g))\n",
        "h_det = (np.linalg.det(h))\n",
        "\n",
        "if g_det > h_det:\n",
        "  print('the longer is g determinent:', g_det)\n",
        "else:\n",
        "  print('the longer is h determinent:', h_det)\n",
        "\n",
        "\n"
      ],
      "execution_count": 0,
      "outputs": [
        {
          "output_type": "stream",
          "text": [
            "the longer is g determinent: [7.]\n"
          ],
          "name": "stdout"
        }
      ]
    },
    {
      "cell_type": "markdown",
      "metadata": {
        "id": "njrWIMS-ZAoH",
        "colab_type": "text"
      },
      "source": [
        "# Part 2 - Matrices"
      ]
    },
    {
      "cell_type": "markdown",
      "metadata": {
        "id": "GjkcAVIOmOnn",
        "colab_type": "text"
      },
      "source": [
        "## 2.1 What are the dimensions of the following matrices? Which of the following can be multiplied together? See if you can find all of the different legal combinations.\n",
        "\\begin{align}\n",
        "A = \\begin{bmatrix}\n",
        "1 & 2 \\\\\n",
        "3 & 4 \\\\\n",
        "5 & 6\n",
        "\\end{bmatrix}\n",
        "\\qquad\n",
        "B = \\begin{bmatrix}\n",
        "2 & 4 & 6 \\\\\n",
        "\\end{bmatrix}\n",
        "\\qquad\n",
        "C = \\begin{bmatrix}\n",
        "9 & 6 & 3 \\\\\n",
        "4 & 7 & 11\n",
        "\\end{bmatrix}\n",
        "\\qquad\n",
        "D = \\begin{bmatrix}\n",
        "1 & 0 & 0 \\\\\n",
        "0 & 1 & 0 \\\\\n",
        "0 & 0 & 1\n",
        "\\end{bmatrix}\n",
        "\\qquad\n",
        "E = \\begin{bmatrix}\n",
        "1 & 3 \\\\\n",
        "5 & 7\n",
        "\\end{bmatrix}\n",
        "\\end{align}"
      ]
    },
    {
      "cell_type": "code",
      "metadata": {
        "id": "Z69c-uPtnbIx",
        "colab_type": "code",
        "colab": {}
      },
      "source": [
        ""
      ],
      "execution_count": 0,
      "outputs": []
    },
    {
      "cell_type": "markdown",
      "metadata": {
        "id": "lMOlCoM3ncGa",
        "colab_type": "text"
      },
      "source": [
        "## 2.2 Find the following products: CD, AE, and BA. What are the dimensions of the resulting matrices? How does that relate to the dimensions of their factor matrices?"
      ]
    },
    {
      "cell_type": "code",
      "metadata": {
        "id": "zhKwiSItoE2F",
        "colab_type": "code",
        "colab": {}
      },
      "source": [
        ""
      ],
      "execution_count": 0,
      "outputs": []
    },
    {
      "cell_type": "markdown",
      "metadata": {
        "id": "p2jmaGLgoFPN",
        "colab_type": "text"
      },
      "source": [
        "## 2.3  Find $F^{T}$. How are the numbers along the main diagonal (top left to bottom right) of the original matrix and its transpose related? What are the dimensions of $F$? What are the dimensions of $F^{T}$?\n",
        "\n",
        "\\begin{align}\n",
        "F = \n",
        "\\begin{bmatrix}\n",
        "20 & 19 & 18 & 17 \\\\\n",
        "16 & 15 & 14 & 13 \\\\\n",
        "12 & 11 & 10 & 9 \\\\\n",
        "8 & 7 & 6 & 5 \\\\\n",
        "4 & 3 & 2 & 1\n",
        "\\end{bmatrix}\n",
        "\\end{align}"
      ]
    },
    {
      "cell_type": "code",
      "metadata": {
        "id": "Wl3ElwgLqaAn",
        "colab_type": "code",
        "outputId": "14a127e9-25a3-4705-cb37-df2f798b79f5",
        "colab": {
          "base_uri": "https://localhost:8080/",
          "height": 340
        }
      },
      "source": [
        "f = np.flip(np.arange(1,21).reshape(5,4))\n",
        "print(f)\n",
        "print('\\n')\n",
        "f_T = np.transpose(f)\n",
        "print(f_T)\n",
        "\n",
        "print('\\n',\n",
        "      'f ndim:', f.ndim,'\\n',\n",
        "      'f shape:', f.shape,'\\n',\n",
        "      'f size:', f.size)\n",
        "\n",
        "print('\\n',\n",
        "      'f_T ndim:', f_T.ndim,'\\n',\n",
        "      'f_T shape:', f_T.shape,'\\n',\n",
        "      'f_T size:', f_T.size)\n",
        "\n"
      ],
      "execution_count": 0,
      "outputs": [
        {
          "output_type": "stream",
          "text": [
            "[[20 19 18 17]\n",
            " [16 15 14 13]\n",
            " [12 11 10  9]\n",
            " [ 8  7  6  5]\n",
            " [ 4  3  2  1]]\n",
            "\n",
            "\n",
            "[[20 16 12  8  4]\n",
            " [19 15 11  7  3]\n",
            " [18 14 10  6  2]\n",
            " [17 13  9  5  1]]\n",
            "\n",
            " f ndim: 2 \n",
            " f shape: (5, 4) \n",
            " f size: 20\n",
            "\n",
            " f_T ndim: 2 \n",
            " f_T shape: (4, 5) \n",
            " f_T size: 20\n"
          ],
          "name": "stdout"
        }
      ]
    },
    {
      "cell_type": "markdown",
      "metadata": {
        "id": "13ik2LEEZLHn",
        "colab_type": "text"
      },
      "source": [
        "# Part 3 - Square Matrices"
      ]
    },
    {
      "cell_type": "markdown",
      "metadata": {
        "id": "sDBAPUwfp7f7",
        "colab_type": "text"
      },
      "source": [
        "## 3.1 Find $IG$ (be sure to show your work) 😃\n",
        "\n",
        "\\begin{align}\n",
        "G= \n",
        "\\begin{bmatrix}\n",
        "12 & 11 \\\\\n",
        "7 & 10 \n",
        "\\end{bmatrix}\n",
        "\\end{align}"
      ]
    },
    {
      "cell_type": "code",
      "metadata": {
        "id": "ZnqvZBOYqar3",
        "colab_type": "code",
        "outputId": "61f82ef6-01c7-4d5b-aabb-81af21fa3d1c",
        "colab": {
          "base_uri": "https://localhost:8080/",
          "height": 51
        }
      },
      "source": [
        "G = np.array([12,11,7,10])\n",
        "G = np.vstack(G).reshape(2,2)\n",
        "G_inv = np.linalg.inv(G)\n",
        "print(G_inv)"
      ],
      "execution_count": 0,
      "outputs": [
        {
          "output_type": "stream",
          "text": [
            "[[ 0.23255814 -0.25581395]\n",
            " [-0.1627907   0.27906977]]\n"
          ],
          "name": "stdout"
        }
      ]
    },
    {
      "cell_type": "markdown",
      "metadata": {
        "id": "DZ_0XTDQqpMT",
        "colab_type": "text"
      },
      "source": [
        "## 3.2 Find $|H|$ and then find $|J|$.\n",
        "\n",
        "\\begin{align}\n",
        "H= \n",
        "\\begin{bmatrix}\n",
        "12 & 11 \\\\\n",
        "7 & 10 \n",
        "\\end{bmatrix}\n",
        "\\qquad\n",
        "J= \n",
        "\\begin{bmatrix}\n",
        "0 & 1 & 2 \\\\\n",
        "7 & 10 & 4 \\\\\n",
        "3 & 2 & 0\n",
        "\\end{bmatrix}\n",
        "\\end{align}\n"
      ]
    },
    {
      "cell_type": "code",
      "metadata": {
        "id": "5QShhoXyrjDS",
        "colab_type": "code",
        "outputId": "c1e23e1b-90e4-4b90-c45a-cefd5a640771",
        "colab": {
          "base_uri": "https://localhost:8080/",
          "height": 34
        }
      },
      "source": [
        "H = np.array([12,11,7,10])\n",
        "J = np.array([0,1,2,7,10,4,3,2,0])\n",
        "H = np.vstack(H).reshape(2,2)\n",
        "J = np.vstack(J).reshape(3,3)\n",
        "\n",
        "H_det = (np.linalg.det(H))\n",
        "J_det = (np.linalg.det(J))\n",
        "\n",
        "print('H Determinent:', H_det,'','J Determinent:', J_det)"
      ],
      "execution_count": 0,
      "outputs": [
        {
          "output_type": "stream",
          "text": [
            "H Determinent: 43.000000000000014  J Determinent: -19.999999999999996\n"
          ],
          "name": "stdout"
        }
      ]
    },
    {
      "cell_type": "markdown",
      "metadata": {
        "id": "2gZl1CFwrXSH",
        "colab_type": "text"
      },
      "source": [
        "## 3.3 Find $H^{-1}$ and then find $J^{-1}$"
      ]
    },
    {
      "cell_type": "code",
      "metadata": {
        "id": "nyX6De2-rio1",
        "colab_type": "code",
        "outputId": "ac23dc06-34f6-4e80-f068-3f7cf6f1f844",
        "colab": {
          "base_uri": "https://localhost:8080/",
          "height": 153
        }
      },
      "source": [
        "\n",
        "H_inv = (np.linalg.inv(H))\n",
        "J_inv = (np.linalg.inv(J))\n",
        "\n",
        "print('H Inverse:','\\n', H_inv,'\\n','\\n','J Inverse:','\\n', J_inv)"
      ],
      "execution_count": 0,
      "outputs": [
        {
          "output_type": "stream",
          "text": [
            "H Inverse: \n",
            " [[ 0.23255814 -0.25581395]\n",
            " [-0.1627907   0.27906977]] \n",
            " \n",
            " J Inverse: \n",
            " [[ 0.4  -0.2   0.8 ]\n",
            " [-0.6   0.3  -0.7 ]\n",
            " [ 0.8  -0.15  0.35]]\n"
          ],
          "name": "stdout"
        }
      ]
    },
    {
      "cell_type": "markdown",
      "metadata": {
        "id": "Vvd4Pe86rjhW",
        "colab_type": "text"
      },
      "source": [
        "## 3.4 Find $HH^{-1}$ and then find $J^{-1}J$. Is $HH^{-1} == J^{-1}J$? Why or Why not?"
      ]
    },
    {
      "cell_type": "code",
      "metadata": {
        "id": "zvuRVt34tGEr",
        "colab_type": "code",
        "outputId": "848c35d7-3e02-4c32-8ba1-61cc514865d0",
        "colab": {
          "base_uri": "https://localhost:8080/",
          "height": 357
        }
      },
      "source": [
        "HH = H*H_inv\n",
        "JJ = J_inv*J\n",
        "\n",
        "print('HH:','\\n',\n",
        "       HH,'\\n','\\n',\n",
        "      'JJ:','\\n', \n",
        "       JJ,'\\n')\n",
        "\n",
        "\n",
        "print('HH ndim:', HH.ndim)\n",
        "print('HH shape:', HH.shape)\n",
        "print('HH size:', HH.size)\n",
        "print('\\n')\n",
        "\n",
        "\n",
        "print('JJ ndim:', JJ.ndim)\n",
        "print('JJ shape:', JJ.shape)\n",
        "print('JJ size:', JJ.size)\n",
        "\n",
        "print('\\n',HH == JJ,'\\n','Not Equal due to HH Order != JJ Order')"
      ],
      "execution_count": 0,
      "outputs": [
        {
          "output_type": "stream",
          "text": [
            "HH: \n",
            " [[ 2.79069767 -2.81395349]\n",
            " [-1.13953488  2.79069767]] \n",
            " \n",
            " JJ: \n",
            " [[ 0.  -0.2  1.6]\n",
            " [-4.2  3.  -2.8]\n",
            " [ 2.4 -0.3  0. ]] \n",
            "\n",
            "HH ndim: 2\n",
            "HH shape: (2, 2)\n",
            "HH size: 4\n",
            "\n",
            "\n",
            "JJ ndim: 2\n",
            "JJ shape: (3, 3)\n",
            "JJ size: 9\n",
            "\n",
            " False \n",
            " Not Equal due to HH Order != JJ Order\n"
          ],
          "name": "stdout"
        }
      ]
    },
    {
      "cell_type": "markdown",
      "metadata": {
        "id": "V0iTO4McYjtk",
        "colab_type": "text"
      },
      "source": [
        "# Stretch Goals: \n",
        "\n",
        "A reminder that these challenges are optional. If you finish your work quickly we welcome you to work on them. If there are other activities that you feel like will help your understanding of the above topics more, feel free to work on that. Topics from the Stretch Goals sections will never end up on Sprint Challenges. You don't have to do these in order, you don't have to do all of them. \n",
        "\n",
        "- Write a function that can calculate the dot product of any two vectors of equal length that are passed to it.\n",
        "- Write a function that can calculate the norm of any vector\n",
        "- Prove to yourself again that the vectors in 1.9 are orthogonal by graphing them. \n",
        "- Research how to plot a 3d graph with animations so that you can make the graph rotate (this will be easier in a local notebook than in google colab)\n",
        "- Create and plot a matrix on a 2d graph.\n",
        "- Create and plot a matrix on a 3d graph.\n",
        "- Plot two vectors that are not collinear on a 2d graph. Calculate the determinant of the 2x2 matrix that these vectors form. How does this determinant relate to the graphical interpretation of the vectors?\n",
        "\n"
      ]
    }
  ]
}